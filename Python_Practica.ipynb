{
  "nbformat": 4,
  "nbformat_minor": 0,
  "metadata": {
    "colab": {
      "name": "Python Practica.ipynb",
      "provenance": [],
      "authorship_tag": "ABX9TyOsKOdcJcjNOyp6DBLCUamO",
      "include_colab_link": true
    },
    "kernelspec": {
      "name": "python3",
      "display_name": "Python 3"
    },
    "language_info": {
      "name": "python"
    }
  },
  "cells": [
    {
      "cell_type": "markdown",
      "metadata": {
        "id": "view-in-github",
        "colab_type": "text"
      },
      "source": [
        "<a href=\"https://colab.research.google.com/github/bejarcarlos/PythonPractica/blob/main/Python_Practica.ipynb\" target=\"_parent\"><img src=\"https://colab.research.google.com/assets/colab-badge.svg\" alt=\"Open In Colab\"/></a>"
      ]
    },
    {
      "cell_type": "markdown",
      "source": [
        "100 días de Codigo en Python\n"
      ],
      "metadata": {
        "id": "LlMDGahZA5p1"
      }
    },
    {
      "cell_type": "markdown",
      "source": [
        "Dia 1"
      ],
      "metadata": {
        "id": "zfnle_33A5v9"
      }
    },
    {
      "cell_type": "code",
      "source": [
        "Peso = float(input(\"¿Cuál es tu peso?\"))\n",
        "Altura = float(input(\"¿Cual es tu altura?\"))\n",
        "MBI =  str(round((Peso)/(Altura**2)))\n",
        "\n",
        "print(\"Tu índice de masa corporal= \"+ MBI)"
      ],
      "metadata": {
        "id": "ZT8YcUYQBFFp",
        "colab": {
          "base_uri": "https://localhost:8080/"
        },
        "outputId": "19b593e0-f686-4e38-a352-dd695253644f"
      },
      "execution_count": 16,
      "outputs": [
        {
          "output_type": "stream",
          "name": "stdout",
          "text": [
            "¿Cuál es tu peso?80\n",
            "¿Cual es tu altura?1.7\n",
            "Tu índice de masa corporal= 28\n"
          ]
        }
      ]
    }
  ]
}